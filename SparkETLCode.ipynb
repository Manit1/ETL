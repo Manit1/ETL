{
 "cells": [
  {
   "cell_type": "code",
   "execution_count": 1,
   "id": "f3d2fbb5",
   "metadata": {},
   "outputs": [
    {
     "data": {
      "application/vnd.jupyter.widget-view+json": {
       "model_id": "a583c948cf9e423c82c6f8b9774d2635",
       "version_major": 2,
       "version_minor": 0
      },
      "text/plain": [
       "VBox()"
      ]
     },
     "metadata": {},
     "output_type": "display_data"
    },
    {
     "name": "stdout",
     "output_type": "stream",
     "text": [
      "Starting Spark application\n"
     ]
    },
    {
     "data": {
      "text/html": [
       "<table>\n",
       "<tr><th>ID</th><th>YARN Application ID</th><th>Kind</th><th>State</th><th>Spark UI</th><th>Driver log</th><th>User</th><th>Current session?</th></tr><tr><td>0</td><td>application_1687160170511_0002</td><td>pyspark</td><td>idle</td><td><a target=\"_blank\" href=\"http://ip-172-31-51-144.ec2.internal:20888/proxy/application_1687160170511_0002/\" class=\"emr-proxy-link\" emr-resource=\"j-2Q7GDB2PO44HS\n",
       "\" application-id=\"application_1687160170511_0002\">Link</a></td><td><a target=\"_blank\" href=\"http://ip-172-31-63-233.ec2.internal:8042/node/containerlogs/container_1687160170511_0002_01_000001/livy\" >Link</a></td><td>None</td><td>✔</td></tr></table>"
      ],
      "text/plain": [
       "<IPython.core.display.HTML object>"
      ]
     },
     "metadata": {},
     "output_type": "display_data"
    },
    {
     "data": {
      "application/vnd.jupyter.widget-view+json": {
       "model_id": "",
       "version_major": 2,
       "version_minor": 0
      },
      "text/plain": [
       "FloatProgress(value=0.0, bar_style='info', description='Progress:', layout=Layout(height='25px', width='50%'),…"
      ]
     },
     "metadata": {},
     "output_type": "display_data"
    },
    {
     "name": "stdout",
     "output_type": "stream",
     "text": [
      "SparkSession available as 'spark'.\n"
     ]
    },
    {
     "data": {
      "application/vnd.jupyter.widget-view+json": {
       "model_id": "",
       "version_major": 2,
       "version_minor": 0
      },
      "text/plain": [
       "FloatProgress(value=0.0, bar_style='info', description='Progress:', layout=Layout(height='25px', width='50%'),…"
      ]
     },
     "metadata": {},
     "output_type": "display_data"
    },
    {
     "name": "stdout",
     "output_type": "stream",
     "text": [
      "<pyspark.sql.session.SparkSession object at 0x7f44caa18890>"
     ]
    }
   ],
   "source": [
    "# Spark Session \n",
    "\n",
    "spark"
   ]
  },
  {
   "cell_type": "code",
   "execution_count": 2,
   "id": "3a735b70",
   "metadata": {},
   "outputs": [
    {
     "data": {
      "application/vnd.jupyter.widget-view+json": {
       "model_id": "c6ff540a8cb74117a09f8f8448787920",
       "version_major": 2,
       "version_minor": 0
      },
      "text/plain": [
       "VBox()"
      ]
     },
     "metadata": {},
     "output_type": "display_data"
    },
    {
     "data": {
      "application/vnd.jupyter.widget-view+json": {
       "model_id": "",
       "version_major": 2,
       "version_minor": 0
      },
      "text/plain": [
       "FloatProgress(value=0.0, bar_style='info', description='Progress:', layout=Layout(height='25px', width='50%'),…"
      ]
     },
     "metadata": {},
     "output_type": "display_data"
    }
   ],
   "source": [
    "# Importing data types for struct\n",
    "\n",
    "from pyspark.sql.types import StructType, StructField, IntegerType, StringType, BooleanType, DoubleType, LongType, DecimalType"
   ]
  },
  {
   "cell_type": "code",
   "execution_count": 3,
   "id": "0b7cf169",
   "metadata": {},
   "outputs": [
    {
     "data": {
      "application/vnd.jupyter.widget-view+json": {
       "model_id": "ecce58431d04409f918f35ec4884f9c9",
       "version_major": 2,
       "version_minor": 0
      },
      "text/plain": [
       "VBox()"
      ]
     },
     "metadata": {},
     "output_type": "display_data"
    },
    {
     "data": {
      "application/vnd.jupyter.widget-view+json": {
       "model_id": "",
       "version_major": 2,
       "version_minor": 0
      },
      "text/plain": [
       "FloatProgress(value=0.0, bar_style='info', description='Progress:', layout=Layout(height='25px', width='50%'),…"
      ]
     },
     "metadata": {},
     "output_type": "display_data"
    }
   ],
   "source": [
    "# Reading data from csv files\n",
    "\n",
    "df = spark.read.csv(\"/user/root/nord_bank_atm/part-m-00000\", header = False, inferSchema = True)"
   ]
  },
  {
   "cell_type": "code",
   "execution_count": 4,
   "id": "945adaf8",
   "metadata": {},
   "outputs": [
    {
     "data": {
      "application/vnd.jupyter.widget-view+json": {
       "model_id": "d8139a0760f64d10998914254ccc07ff",
       "version_major": 2,
       "version_minor": 0
      },
      "text/plain": [
       "VBox()"
      ]
     },
     "metadata": {},
     "output_type": "display_data"
    },
    {
     "data": {
      "application/vnd.jupyter.widget-view+json": {
       "model_id": "",
       "version_major": 2,
       "version_minor": 0
      },
      "text/plain": [
       "FloatProgress(value=0.0, bar_style='info', description='Progress:', layout=Layout(height='25px', width='50%'),…"
      ]
     },
     "metadata": {},
     "output_type": "display_data"
    },
    {
     "name": "stdout",
     "output_type": "stream",
     "text": [
      "2468572"
     ]
    }
   ],
   "source": [
    "# Checking the count\n",
    "df.select('*').count()"
   ]
  },
  {
   "cell_type": "markdown",
   "id": "78b4a953",
   "metadata": {},
   "source": [
    "# Creating our own input schema using StructType and reading the data"
   ]
  },
  {
   "cell_type": "code",
   "execution_count": 5,
   "id": "f3cd28ea",
   "metadata": {},
   "outputs": [
    {
     "data": {
      "application/vnd.jupyter.widget-view+json": {
       "model_id": "a11826161e73403a84c16c8a8537b212",
       "version_major": 2,
       "version_minor": 0
      },
      "text/plain": [
       "VBox()"
      ]
     },
     "metadata": {},
     "output_type": "display_data"
    },
    {
     "data": {
      "application/vnd.jupyter.widget-view+json": {
       "model_id": "",
       "version_major": 2,
       "version_minor": 0
      },
      "text/plain": [
       "FloatProgress(value=0.0, bar_style='info', description='Progress:', layout=Layout(height='25px', width='50%'),…"
      ]
     },
     "metadata": {},
     "output_type": "display_data"
    }
   ],
   "source": [
    "Schema = StructType([StructField('year', IntegerType(), nullable = True),\n",
    "                        StructField('month', StringType(), True),\n",
    "                        StructField('day', IntegerType(), True),\n",
    "                        StructField('weekday', StringType(), True),\n",
    "                        StructField('hour', IntegerType(), True),\n",
    "                        StructField('atm_status', StringType(), True),\n",
    "                        StructField('atm_id', StringType(), True),\n",
    "                        StructField('atm_manufacturer', StringType(), True),\n",
    "                        StructField('atm_location', StringType(), True),\n",
    "                        StructField('atm_streetname', StringType(), True),\n",
    "                        StructField('atm_street_number', IntegerType(), True),\n",
    "                        StructField('atm_zipcode', IntegerType(), True),\n",
    "                        StructField('atm_lat', DoubleType(), True),\n",
    "                        StructField('atm_lon', DoubleType(), True),\n",
    "                        StructField('currency', StringType(), True),\n",
    "                        StructField('card_type', StringType(), True),\n",
    "                        StructField('transaction_amount', IntegerType(), True),\n",
    "                        StructField('service', StringType(), True),\n",
    "                        StructField('message_code', StringType(), True),\n",
    "                        StructField('message_text', StringType(), True),\n",
    "                        StructField('weather_lat', DoubleType(), True),\n",
    "                        StructField('weather_lon', DoubleType(), True),\n",
    "                        StructField('weather_city_id', IntegerType(), True),\n",
    "                        StructField('weather_city_name', StringType(), True),\n",
    "                        StructField('temp', DoubleType(), True),\n",
    "                        StructField('pressure', IntegerType(), True),\n",
    "                        StructField('humidity', IntegerType(), True),\n",
    "                        StructField('wind_speed', IntegerType(), True),\n",
    "                        StructField('wind_deg', IntegerType(), True),\n",
    "                        StructField('rain_3h', DoubleType(), True),\n",
    "                        StructField('clouds_all', IntegerType(), True),\n",
    "                        StructField('weather_id', IntegerType(), True),\n",
    "                        StructField('weather_main', StringType(), True),\n",
    "                        StructField('weather_description', StringType(), True)])"
   ]
  },
  {
   "cell_type": "code",
   "execution_count": 6,
   "id": "f02ae25a",
   "metadata": {},
   "outputs": [
    {
     "data": {
      "application/vnd.jupyter.widget-view+json": {
       "model_id": "daf4758cb5de41398f28c70066d1121e",
       "version_major": 2,
       "version_minor": 0
      },
      "text/plain": [
       "VBox()"
      ]
     },
     "metadata": {},
     "output_type": "display_data"
    },
    {
     "data": {
      "application/vnd.jupyter.widget-view+json": {
       "model_id": "",
       "version_major": 2,
       "version_minor": 0
      },
      "text/plain": [
       "FloatProgress(value=0.0, bar_style='info', description='Progress:', layout=Layout(height='25px', width='50%'),…"
      ]
     },
     "metadata": {},
     "output_type": "display_data"
    }
   ],
   "source": [
    "df = spark.read.csv(\"/user/root/nord_bank_atm/part-m-00000\", header = False, schema = Schema)"
   ]
  },
  {
   "cell_type": "code",
   "execution_count": 7,
   "id": "6aa446cc",
   "metadata": {},
   "outputs": [
    {
     "data": {
      "application/vnd.jupyter.widget-view+json": {
       "model_id": "fd0b3d7a197b48d5907ff4be2f5e562d",
       "version_major": 2,
       "version_minor": 0
      },
      "text/plain": [
       "VBox()"
      ]
     },
     "metadata": {},
     "output_type": "display_data"
    },
    {
     "data": {
      "application/vnd.jupyter.widget-view+json": {
       "model_id": "",
       "version_major": 2,
       "version_minor": 0
      },
      "text/plain": [
       "FloatProgress(value=0.0, bar_style='info', description='Progress:', layout=Layout(height='25px', width='50%'),…"
      ]
     },
     "metadata": {},
     "output_type": "display_data"
    },
    {
     "name": "stdout",
     "output_type": "stream",
     "text": [
      "2468572"
     ]
    }
   ],
   "source": [
    "df.select('*').count()"
   ]
  },
  {
   "cell_type": "code",
   "execution_count": 8,
   "id": "813a5ef1",
   "metadata": {},
   "outputs": [
    {
     "data": {
      "application/vnd.jupyter.widget-view+json": {
       "model_id": "286d9ff411b948bf973b77179e62b74c",
       "version_major": 2,
       "version_minor": 0
      },
      "text/plain": [
       "VBox()"
      ]
     },
     "metadata": {},
     "output_type": "display_data"
    },
    {
     "data": {
      "application/vnd.jupyter.widget-view+json": {
       "model_id": "",
       "version_major": 2,
       "version_minor": 0
      },
      "text/plain": [
       "FloatProgress(value=0.0, bar_style='info', description='Progress:', layout=Layout(height='25px', width='50%'),…"
      ]
     },
     "metadata": {},
     "output_type": "display_data"
    },
    {
     "name": "stdout",
     "output_type": "stream",
     "text": [
      "root\n",
      " |-- year: integer (nullable = true)\n",
      " |-- month: string (nullable = true)\n",
      " |-- day: integer (nullable = true)\n",
      " |-- weekday: string (nullable = true)\n",
      " |-- hour: integer (nullable = true)\n",
      " |-- atm_status: string (nullable = true)\n",
      " |-- atm_id: string (nullable = true)\n",
      " |-- atm_manufacturer: string (nullable = true)\n",
      " |-- atm_location: string (nullable = true)\n",
      " |-- atm_streetname: string (nullable = true)\n",
      " |-- atm_street_number: integer (nullable = true)\n",
      " |-- atm_zipcode: integer (nullable = true)\n",
      " |-- atm_lat: double (nullable = true)\n",
      " |-- atm_lon: double (nullable = true)\n",
      " |-- currency: string (nullable = true)\n",
      " |-- card_type: string (nullable = true)\n",
      " |-- transaction_amount: integer (nullable = true)\n",
      " |-- service: string (nullable = true)\n",
      " |-- message_code: string (nullable = true)\n",
      " |-- message_text: string (nullable = true)\n",
      " |-- weather_lat: double (nullable = true)\n",
      " |-- weather_lon: double (nullable = true)\n",
      " |-- weather_city_id: integer (nullable = true)\n",
      " |-- weather_city_name: string (nullable = true)\n",
      " |-- temp: double (nullable = true)\n",
      " |-- pressure: integer (nullable = true)\n",
      " |-- humidity: integer (nullable = true)\n",
      " |-- wind_speed: integer (nullable = true)\n",
      " |-- wind_deg: integer (nullable = true)\n",
      " |-- rain_3h: double (nullable = true)\n",
      " |-- clouds_all: integer (nullable = true)\n",
      " |-- weather_id: integer (nullable = true)\n",
      " |-- weather_main: string (nullable = true)\n",
      " |-- weather_description: string (nullable = true)"
     ]
    }
   ],
   "source": [
    "df.printSchema()"
   ]
  },
  {
   "cell_type": "code",
   "execution_count": 9,
   "id": "2aab2b91",
   "metadata": {},
   "outputs": [
    {
     "data": {
      "application/vnd.jupyter.widget-view+json": {
       "model_id": "13288c3041634c4a805257c361c1cddf",
       "version_major": 2,
       "version_minor": 0
      },
      "text/plain": [
       "VBox()"
      ]
     },
     "metadata": {},
     "output_type": "display_data"
    },
    {
     "data": {
      "application/vnd.jupyter.widget-view+json": {
       "model_id": "",
       "version_major": 2,
       "version_minor": 0
      },
      "text/plain": [
       "FloatProgress(value=0.0, bar_style='info', description='Progress:', layout=Layout(height='25px', width='50%'),…"
      ]
     },
     "metadata": {},
     "output_type": "display_data"
    },
    {
     "name": "stdout",
     "output_type": "stream",
     "text": [
      "['year', 'month', 'day', 'weekday', 'hour', 'atm_status', 'atm_id', 'atm_manufacturer', 'atm_location', 'atm_streetname', 'atm_street_number', 'atm_zipcode', 'atm_lat', 'atm_lon', 'currency', 'card_type', 'transaction_amount', 'service', 'message_code', 'message_text', 'weather_lat', 'weather_lon', 'weather_city_id', 'weather_city_name', 'temp', 'pressure', 'humidity', 'wind_speed', 'wind_deg', 'rain_3h', 'clouds_all', 'weather_id', 'weather_main', 'weather_description']"
     ]
    }
   ],
   "source": [
    "df.columns"
   ]
  },
  {
   "cell_type": "markdown",
   "id": "4daa8f01",
   "metadata": {},
   "source": [
    "# Creating the Dimension and Fact tables"
   ]
  },
  {
   "cell_type": "code",
   "execution_count": 10,
   "id": "6ff3e991",
   "metadata": {},
   "outputs": [
    {
     "data": {
      "application/vnd.jupyter.widget-view+json": {
       "model_id": "1d2134f18a924cf782a9a28956c077b6",
       "version_major": 2,
       "version_minor": 0
      },
      "text/plain": [
       "VBox()"
      ]
     },
     "metadata": {},
     "output_type": "display_data"
    },
    {
     "data": {
      "application/vnd.jupyter.widget-view+json": {
       "model_id": "",
       "version_major": 2,
       "version_minor": 0
      },
      "text/plain": [
       "FloatProgress(value=0.0, bar_style='info', description='Progress:', layout=Layout(height='25px', width='50%'),…"
      ]
     },
     "metadata": {},
     "output_type": "display_data"
    }
   ],
   "source": [
    "from pyspark.sql.functions import *"
   ]
  },
  {
   "cell_type": "code",
   "execution_count": 11,
   "id": "67a06188",
   "metadata": {},
   "outputs": [
    {
     "data": {
      "application/vnd.jupyter.widget-view+json": {
       "model_id": "0ece3e486318411982a19608789e85cc",
       "version_major": 2,
       "version_minor": 0
      },
      "text/plain": [
       "VBox()"
      ]
     },
     "metadata": {},
     "output_type": "display_data"
    },
    {
     "data": {
      "application/vnd.jupyter.widget-view+json": {
       "model_id": "",
       "version_major": 2,
       "version_minor": 0
      },
      "text/plain": [
       "FloatProgress(value=0.0, bar_style='info', description='Progress:', layout=Layout(height='25px', width='50%'),…"
      ]
     },
     "metadata": {},
     "output_type": "display_data"
    }
   ],
   "source": [
    "# Creating temp table \n",
    "\n",
    "df.createOrReplaceTempView(\"DF_SQL\")"
   ]
  },
  {
   "cell_type": "markdown",
   "id": "d3ce578f",
   "metadata": {},
   "source": [
    "# DIM_LOCATION"
   ]
  },
  {
   "cell_type": "code",
   "execution_count": 12,
   "id": "52ffa4fb",
   "metadata": {},
   "outputs": [
    {
     "data": {
      "application/vnd.jupyter.widget-view+json": {
       "model_id": "b8e6765a284e464abda7736be15921da",
       "version_major": 2,
       "version_minor": 0
      },
      "text/plain": [
       "VBox()"
      ]
     },
     "metadata": {},
     "output_type": "display_data"
    },
    {
     "data": {
      "application/vnd.jupyter.widget-view+json": {
       "model_id": "",
       "version_major": 2,
       "version_minor": 0
      },
      "text/plain": [
       "FloatProgress(value=0.0, bar_style='info', description='Progress:', layout=Layout(height='25px', width='50%'),…"
      ]
     },
     "metadata": {},
     "output_type": "display_data"
    }
   ],
   "source": [
    "# Checking the distinct location data\n",
    "\n",
    "Dim_Location_distinct = spark.sql(\n",
    "    \"select distinct atm_location,atm_streetname,atm_street_number,atm_zipcode,atm_lat,atm_lon from DF_SQL\"\n",
    ")\n",
    "\n",
    "# Creating temp table\n",
    "\n",
    "Dim_Location_distinct.createOrReplaceTempView(\"Dim_Location_distinct_sql\")\n",
    "\n",
    "# Creating Row_number as location_id \n",
    "\n",
    "Dim_Location = spark.sql(\n",
    "    \"select ROW_NUMBER() OVER (ORDER BY atm_location) as location_id, atm_location,atm_streetname,atm_street_number,atm_zipcode,atm_lat,atm_lon from Dim_Location_distinct_sql\"\n",
    ")\n",
    "\n",
    "# Creating temp table \n",
    "\n",
    "Dim_Location.createOrReplaceTempView(\"Dim_Location_sql\")\n",
    "\n",
    "# Writing the Location dimension into S3\n",
    "\n",
    "Dim_Location.write.format('csv').option('header', 'true').save('s3://upgrad-de/dim_location/', mode='overwrite')"
   ]
  },
  {
   "cell_type": "markdown",
   "id": "04673ceb",
   "metadata": {},
   "source": [
    "# DIM_ATM"
   ]
  },
  {
   "cell_type": "code",
   "execution_count": 13,
   "id": "062b9750",
   "metadata": {},
   "outputs": [
    {
     "data": {
      "application/vnd.jupyter.widget-view+json": {
       "model_id": "43994bed37c2428abf34a1ff329fbc57",
       "version_major": 2,
       "version_minor": 0
      },
      "text/plain": [
       "VBox()"
      ]
     },
     "metadata": {},
     "output_type": "display_data"
    },
    {
     "data": {
      "application/vnd.jupyter.widget-view+json": {
       "model_id": "",
       "version_major": 2,
       "version_minor": 0
      },
      "text/plain": [
       "FloatProgress(value=0.0, bar_style='info', description='Progress:', layout=Layout(height='25px', width='50%'),…"
      ]
     },
     "metadata": {},
     "output_type": "display_data"
    }
   ],
   "source": [
    "# ATM dimension table\n",
    "\n",
    "atm_distinct = spark.sql(\n",
    "    \"select distinct atm_id as atm_number, atm_manufacturer,atm_location,atm_streetname,atm_street_number,atm_zipcode,atm_lat,atm_lon from DF_SQL\"\n",
    ")\n",
    "# Creating temp table\n",
    "\n",
    "atm_distinct.createOrReplaceTempView(\"atm_distinct_sql\")\n",
    "\n",
    "# SQL for joining the tables\n",
    "\n",
    "atm_location = spark.sql(\n",
    "    \"select distinct a.atm_number,a.atm_manufacturer,b.location_id from  atm_distinct_sql a, Dim_Location_sql b where a.atm_location= b.atm_location and a.atm_streetname= b.atm_streetname and a.atm_street_number=b.atm_street_number and a.atm_zipcode =b.atm_zipcode and a.atm_lat=b.atm_lat and a.atm_lon = b.atm_lon\"\n",
    ")\n",
    "\n",
    "# Creating temp table\n",
    "\n",
    "atm_location.createOrReplaceTempView(\"atm_location_sql\")\n",
    "\n",
    "# creating primary key\n",
    "\n",
    "dim_atm = spark.sql(\n",
    "    \"select ROW_NUMBER() OVER (ORDER BY atm_number) as atm_id, atm_number,atm_manufacturer, location_id from atm_location_sql\"\n",
    ")\n",
    "\n",
    "# Creating temp table\n",
    "\n",
    "dim_atm.createOrReplaceTempView(\"dim_atm_sql\")\n",
    "\n",
    "# Writing the time dimension file to S3\n",
    "\n",
    "dim_atm.write.format('csv').option('header', 'true').save('s3://upgrad-de/dim_atm/', mode='overwrite')"
   ]
  },
  {
   "cell_type": "markdown",
   "id": "52e879cc",
   "metadata": {},
   "source": [
    "# DIM_CARD_TYPE"
   ]
  },
  {
   "cell_type": "code",
   "execution_count": 14,
   "id": "fa961c9b",
   "metadata": {},
   "outputs": [
    {
     "data": {
      "application/vnd.jupyter.widget-view+json": {
       "model_id": "38026d40df35491797a1a27fdd6f2c98",
       "version_major": 2,
       "version_minor": 0
      },
      "text/plain": [
       "VBox()"
      ]
     },
     "metadata": {},
     "output_type": "display_data"
    },
    {
     "data": {
      "application/vnd.jupyter.widget-view+json": {
       "model_id": "",
       "version_major": 2,
       "version_minor": 0
      },
      "text/plain": [
       "FloatProgress(value=0.0, bar_style='info', description='Progress:', layout=Layout(height='25px', width='50%'),…"
      ]
     },
     "metadata": {},
     "output_type": "display_data"
    }
   ],
   "source": [
    "# Card Type dimension table\n",
    "\n",
    "Dim_cardtype_distinct = spark.sql(\n",
    "    \"select distinct card_type from DF_SQL\")\n",
    "\n",
    "# Creating temp table \n",
    "\n",
    "Dim_cardtype_distinct.createOrReplaceTempView(\"Dim_cardtype_distinct_sql\")\n",
    "\n",
    "# creating primary key\n",
    "\n",
    "Dim_cardtype = spark.sql(\n",
    "    \"select ROW_NUMBER() OVER (ORDER BY card_type) as card_type_id, card_type from Dim_cardtype_distinct_sql\"\n",
    ")\n",
    "\n",
    "# Creating temp table\n",
    "\n",
    "Dim_cardtype.createOrReplaceTempView(\"Dim_cardtype_sql\")\n",
    "\n",
    "# Writing the card type data to S3 \n",
    "Dim_cardtype.write.format('csv').option('header', 'true').save('s3://upgrad-de/dim_card_type/', mode='overwrite')"
   ]
  },
  {
   "cell_type": "markdown",
   "id": "31d47590",
   "metadata": {},
   "source": [
    "# DIM_DATE"
   ]
  },
  {
   "cell_type": "code",
   "execution_count": 15,
   "id": "825fe302",
   "metadata": {},
   "outputs": [
    {
     "data": {
      "application/vnd.jupyter.widget-view+json": {
       "model_id": "33f2001f0ebd4fc29d2ceee46ba5cd44",
       "version_major": 2,
       "version_minor": 0
      },
      "text/plain": [
       "VBox()"
      ]
     },
     "metadata": {},
     "output_type": "display_data"
    },
    {
     "data": {
      "application/vnd.jupyter.widget-view+json": {
       "model_id": "",
       "version_major": 2,
       "version_minor": 0
      },
      "text/plain": [
       "FloatProgress(value=0.0, bar_style='info', description='Progress:', layout=Layout(height='25px', width='50%'),…"
      ]
     },
     "metadata": {},
     "output_type": "display_data"
    }
   ],
   "source": [
    "# Creating Month_num\n",
    "\n",
    "df = df.withColumn(\"Month_Num\",\n",
    "    when(df.month == \"January\",\"01\").when(df.month == \"February\", \"02\").when(\n",
    "    df.month == \"March\",\"03\").when(df.month == \"April\", \"04\").when(\n",
    "    df.month == \"May\",\"05\").when(df.month == \"June\", \"06\").when(\n",
    "    df.month == \"July\",\"07\").when(df.month == \"August\", \"08\").when(\n",
    "    df.month == \"September\",\"09\").when(df.month == \"October\", \"10\").when(\n",
    "    df.month == \"November\",\"11\").when(df.month == \"December\",\n",
    "    \"12\").otherwise(df.month))"
   ]
  },
  {
   "cell_type": "code",
   "execution_count": 16,
   "id": "0856fbaf",
   "metadata": {},
   "outputs": [
    {
     "data": {
      "application/vnd.jupyter.widget-view+json": {
       "model_id": "e246eafc3970487f9cbfe9c593795efc",
       "version_major": 2,
       "version_minor": 0
      },
      "text/plain": [
       "VBox()"
      ]
     },
     "metadata": {},
     "output_type": "display_data"
    },
    {
     "data": {
      "application/vnd.jupyter.widget-view+json": {
       "model_id": "",
       "version_major": 2,
       "version_minor": 0
      },
      "text/plain": [
       "FloatProgress(value=0.0, bar_style='info', description='Progress:', layout=Layout(height='25px', width='50%'),…"
      ]
     },
     "metadata": {},
     "output_type": "display_data"
    }
   ],
   "source": [
    "# Creating day_Num\n",
    "df = df.withColumn(\"Day_Num\",\n",
    "    when(df.day == \"1\", \"01\").when(df.day == \"2\", \"02\").when(df.day == \"3\", \"03\").when(df.day == \"4\", \"04\").when(\n",
    "    df.day == \"5\", \"05\").when(df.day == \"6\", \"06\").when(df.day == \"7\",\"07\").when(df.day == \"8\",\"08\").when(\n",
    "    df.day == \"9\",\"09\").otherwise(df.day))"
   ]
  },
  {
   "cell_type": "code",
   "execution_count": 17,
   "id": "f64a30fe",
   "metadata": {},
   "outputs": [
    {
     "data": {
      "application/vnd.jupyter.widget-view+json": {
       "model_id": "d5218c107c77470499e2d5471adf5dd8",
       "version_major": 2,
       "version_minor": 0
      },
      "text/plain": [
       "VBox()"
      ]
     },
     "metadata": {},
     "output_type": "display_data"
    },
    {
     "data": {
      "application/vnd.jupyter.widget-view+json": {
       "model_id": "",
       "version_major": 2,
       "version_minor": 0
      },
      "text/plain": [
       "FloatProgress(value=0.0, bar_style='info', description='Progress:', layout=Layout(height='25px', width='50%'),…"
      ]
     },
     "metadata": {},
     "output_type": "display_data"
    }
   ],
   "source": [
    "# Creating new Hour_Num\n",
    "df = df.withColumn(\"Hour_Num\",\n",
    "    when(df.hour == \"1\", \"01\").when(df.hour == \"2\", \"02\").when(df.hour == \"0\", \"00\").when(\n",
    "    df.hour == \"3\", \"03\").when(df.hour == \"4\",\"04\").when(df.hour == \"5\",\"05\").when(df.hour == \"6\",\n",
    "    \"06\").when(df.hour == \"7\", \"07\").when(df.hour == \"8\", \"08\").when(\n",
    "    df.hour == \"9\",\"09\").otherwise(df.hour))"
   ]
  },
  {
   "cell_type": "code",
   "execution_count": 18,
   "id": "89400ee0",
   "metadata": {},
   "outputs": [
    {
     "data": {
      "application/vnd.jupyter.widget-view+json": {
       "model_id": "258e07192ba74f409808b33b5384faff",
       "version_major": 2,
       "version_minor": 0
      },
      "text/plain": [
       "VBox()"
      ]
     },
     "metadata": {},
     "output_type": "display_data"
    },
    {
     "data": {
      "application/vnd.jupyter.widget-view+json": {
       "model_id": "",
       "version_major": 2,
       "version_minor": 0
      },
      "text/plain": [
       "FloatProgress(value=0.0, bar_style='info', description='Progress:', layout=Layout(height='25px', width='50%'),…"
      ]
     },
     "metadata": {},
     "output_type": "display_data"
    }
   ],
   "source": [
    "### Creating Complete_time\n",
    "\n",
    "df = df.withColumn('Complete_time',\n",
    "    concat(col('year'), lit(\"-\"), col('month_Num'), lit(\"-\"), col('Day_Num'),\n",
    "    lit(\" \"), col('Hour_Num'), lit(\":\"), lit(\"00\"), lit(\":\"), lit(\"00\")))\n",
    "\n",
    "df.createOrReplaceTempView(\"df_SQL\")"
   ]
  },
  {
   "cell_type": "code",
   "execution_count": 19,
   "id": "5e1446d5",
   "metadata": {},
   "outputs": [
    {
     "data": {
      "application/vnd.jupyter.widget-view+json": {
       "model_id": "d807e1ab581f4619b8af8f4868c5df86",
       "version_major": 2,
       "version_minor": 0
      },
      "text/plain": [
       "VBox()"
      ]
     },
     "metadata": {},
     "output_type": "display_data"
    },
    {
     "data": {
      "application/vnd.jupyter.widget-view+json": {
       "model_id": "",
       "version_major": 2,
       "version_minor": 0
      },
      "text/plain": [
       "FloatProgress(value=0.0, bar_style='info', description='Progress:', layout=Layout(height='25px', width='50%'),…"
      ]
     },
     "metadata": {},
     "output_type": "display_data"
    }
   ],
   "source": [
    "# Date dimension table\n",
    "\n",
    "Dim_Date_distinct = spark.sql(\n",
    "    \"select distinct Complete_time as full_date_time,year,month,day,hour,weekday  From df_SQL\"\n",
    ")\n",
    "\n",
    "# Creating temp table\n",
    "\n",
    "Dim_Date_distinct.createOrReplaceTempView(\"Dim_Date_distinct_sql\")\n",
    "\n",
    "# Creating primary key\n",
    "\n",
    "Dim_Date = spark.sql(\n",
    "    \"select ROW_NUMBER() OVER (ORDER BY full_date_time) as Date_id, full_date_time, year,month,day,hour,weekday from Dim_Date_distinct_sql\"\n",
    ")\n",
    "\n",
    "# Creating temp table\n",
    "\n",
    "Dim_Date.createOrReplaceTempView(\"Dim_Date_sql\")\n",
    "\n",
    "# Writing the date dimension data to S3\n",
    "Dim_Date.write.format('csv').option('header', 'true').save('s3://upgrad-de/dim_date/', mode='overwrite')"
   ]
  },
  {
   "cell_type": "markdown",
   "id": "05e93461",
   "metadata": {},
   "source": [
    "Fact table creation"
   ]
  },
  {
   "cell_type": "code",
   "execution_count": 20,
   "id": "b2256ea4",
   "metadata": {},
   "outputs": [
    {
     "data": {
      "application/vnd.jupyter.widget-view+json": {
       "model_id": "9da006f9440a4f69b9a9e5def506b0dd",
       "version_major": 2,
       "version_minor": 0
      },
      "text/plain": [
       "VBox()"
      ]
     },
     "metadata": {},
     "output_type": "display_data"
    },
    {
     "data": {
      "application/vnd.jupyter.widget-view+json": {
       "model_id": "",
       "version_major": 2,
       "version_minor": 0
      },
      "text/plain": [
       "FloatProgress(value=0.0, bar_style='info', description='Progress:', layout=Layout(height='25px', width='50%'),…"
      ]
     },
     "metadata": {},
     "output_type": "display_data"
    }
   ],
   "source": [
    "# Hadling message codes - 4017,4014,4002\n",
    "\n",
    "df = df.withColumn(\"Message_Txt_formatted\",\n",
    "    when(df.message_code == '4017', 'Suspected malfunction').when(df.message_code == '4014', 'Suspected malfunction').when(\n",
    "    df.message_code == '4002','Suspected malfunction').otherwise(df.message_text))\n",
    "\n",
    "# Creating temp table\n",
    "\n",
    "df.createOrReplaceTempView(\"DF_SQL\")"
   ]
  },
  {
   "cell_type": "code",
   "execution_count": 21,
   "id": "bd853bba",
   "metadata": {},
   "outputs": [
    {
     "data": {
      "application/vnd.jupyter.widget-view+json": {
       "model_id": "4cd4828907bd4040a16094b28d258add",
       "version_major": 2,
       "version_minor": 0
      },
      "text/plain": [
       "VBox()"
      ]
     },
     "metadata": {},
     "output_type": "display_data"
    },
    {
     "data": {
      "application/vnd.jupyter.widget-view+json": {
       "model_id": "",
       "version_major": 2,
       "version_minor": 0
      },
      "text/plain": [
       "FloatProgress(value=0.0, bar_style='info', description='Progress:', layout=Layout(height='25px', width='50%'),…"
      ]
     },
     "metadata": {},
     "output_type": "display_data"
    }
   ],
   "source": [
    "# Performing left join with dimension table\n",
    "\n",
    "Card_type = spark.sql(\n",
    "    \"select a.*,b.card_type_id from DF_SQL a left join Dim_cardtype_sql b on a.card_type = b.card_type \"\n",
    ")\n",
    "\n",
    "Card_type.createOrReplaceTempView(\"Card_type_sql\")"
   ]
  },
  {
   "cell_type": "code",
   "execution_count": 22,
   "id": "428f193d",
   "metadata": {},
   "outputs": [
    {
     "data": {
      "application/vnd.jupyter.widget-view+json": {
       "model_id": "a7991e9011b144c6b92add23e25577fd",
       "version_major": 2,
       "version_minor": 0
      },
      "text/plain": [
       "VBox()"
      ]
     },
     "metadata": {},
     "output_type": "display_data"
    },
    {
     "data": {
      "application/vnd.jupyter.widget-view+json": {
       "model_id": "",
       "version_major": 2,
       "version_minor": 0
      },
      "text/plain": [
       "FloatProgress(value=0.0, bar_style='info', description='Progress:', layout=Layout(height='25px', width='50%'),…"
      ]
     },
     "metadata": {},
     "output_type": "display_data"
    }
   ],
   "source": [
    "# Performing left join with dimension table\n",
    "\n",
    "weather_location = spark.sql(\n",
    "    \"select a.*, b.location_id as weather_loc_id from Card_type_sql a left join Dim_Location_sql b on (a.atm_location = b.atm_location and a.atm_streetname = b.atm_streetname and a.atm_street_number = b.atm_street_number and  a.atm_zipcode = b.atm_zipcode and a.atm_lat = b.atm_lat and a.atm_lon = b.atm_lon) \"\n",
    ")\n",
    "\n",
    "weather_location.createOrReplaceTempView(\"weather_location_sql\")"
   ]
  },
  {
   "cell_type": "code",
   "execution_count": 23,
   "id": "cc20a636",
   "metadata": {},
   "outputs": [
    {
     "data": {
      "application/vnd.jupyter.widget-view+json": {
       "model_id": "1c91f86c248f4b8c8fb6961895749f67",
       "version_major": 2,
       "version_minor": 0
      },
      "text/plain": [
       "VBox()"
      ]
     },
     "metadata": {},
     "output_type": "display_data"
    },
    {
     "data": {
      "application/vnd.jupyter.widget-view+json": {
       "model_id": "",
       "version_major": 2,
       "version_minor": 0
      },
      "text/plain": [
       "FloatProgress(value=0.0, bar_style='info', description='Progress:', layout=Layout(height='25px', width='50%'),…"
      ]
     },
     "metadata": {},
     "output_type": "display_data"
    }
   ],
   "source": [
    "# Performing left join with dimension table\n",
    "\n",
    "atm_data = spark.sql(\n",
    "    \"select a.*, b.atm_id from weather_location_sql a left join dim_atm_sql b on a.atm_id = b.atm_number and a.weather_loc_id=location_id\"\n",
    ")\n",
    "\n",
    "atm_data.createOrReplaceTempView(\"atm_data_sql\")"
   ]
  },
  {
   "cell_type": "code",
   "execution_count": 24,
   "id": "026df1a0",
   "metadata": {},
   "outputs": [
    {
     "data": {
      "application/vnd.jupyter.widget-view+json": {
       "model_id": "016b3d455b5f4c5e98770a3cc5c88d53",
       "version_major": 2,
       "version_minor": 0
      },
      "text/plain": [
       "VBox()"
      ]
     },
     "metadata": {},
     "output_type": "display_data"
    },
    {
     "data": {
      "application/vnd.jupyter.widget-view+json": {
       "model_id": "",
       "version_major": 2,
       "version_minor": 0
      },
      "text/plain": [
       "FloatProgress(value=0.0, bar_style='info', description='Progress:', layout=Layout(height='25px', width='50%'),…"
      ]
     },
     "metadata": {},
     "output_type": "display_data"
    }
   ],
   "source": [
    "# Performing left join with dimension table\n",
    "\n",
    "time_fact_data = spark.sql(\n",
    "    \"select a.*, b.date_id from weather_location_sql a left join Dim_Date_sql b on a.Complete_time = b.full_date_time\"\n",
    ")\n",
    "\n",
    "time_fact_data.createOrReplaceTempView(\"time_fact_data_sql\")"
   ]
  },
  {
   "cell_type": "code",
   "execution_count": 25,
   "id": "2fe40285",
   "metadata": {},
   "outputs": [
    {
     "data": {
      "application/vnd.jupyter.widget-view+json": {
       "model_id": "213e231e6f5b4659a4c755aeb0dd7568",
       "version_major": 2,
       "version_minor": 0
      },
      "text/plain": [
       "VBox()"
      ]
     },
     "metadata": {},
     "output_type": "display_data"
    },
    {
     "data": {
      "application/vnd.jupyter.widget-view+json": {
       "model_id": "",
       "version_major": 2,
       "version_minor": 0
      },
      "text/plain": [
       "FloatProgress(value=0.0, bar_style='info', description='Progress:', layout=Layout(height='25px', width='50%'),…"
      ]
     },
     "metadata": {},
     "output_type": "display_data"
    }
   ],
   "source": [
    "# Selecting necessary columns\n",
    "\n",
    "Fact_Final_columns = spark.sql(\n",
    "    \"select atm_id, weather_loc_id,date_id,card_type_id,atm_status,currency,service,transaction_amount,message_code,Message_Txt_formatted,rain_3h,clouds_all,weather_id,weather_main,weather_description from time_fact_data_sql\"\n",
    ")\n",
    "\n",
    "Fact_Final_columns.createOrReplaceTempView(\"Fact_Final_columns_sql\")"
   ]
  },
  {
   "cell_type": "code",
   "execution_count": 26,
   "id": "da0d2a93",
   "metadata": {},
   "outputs": [
    {
     "data": {
      "application/vnd.jupyter.widget-view+json": {
       "model_id": "d5f80d15680d46489cae345d06f0313f",
       "version_major": 2,
       "version_minor": 0
      },
      "text/plain": [
       "VBox()"
      ]
     },
     "metadata": {},
     "output_type": "display_data"
    },
    {
     "data": {
      "application/vnd.jupyter.widget-view+json": {
       "model_id": "",
       "version_major": 2,
       "version_minor": 0
      },
      "text/plain": [
       "FloatProgress(value=0.0, bar_style='info', description='Progress:', layout=Layout(height='25px', width='50%'),…"
      ]
     },
     "metadata": {},
     "output_type": "display_data"
    }
   ],
   "source": [
    "# Creating the fact table\n",
    "Fact_Final = spark.sql(\n",
    "    \"Select ROW_NUMBER() OVER (ORDER BY a.date_id) as trans_id, a.* from Fact_Final_columns_sql a\"\n",
    ")\n",
    "\n",
    "Fact_Final.createOrReplaceTempView(\"Fact_Final_sql\")"
   ]
  },
  {
   "cell_type": "code",
   "execution_count": 27,
   "id": "7d3927d2",
   "metadata": {},
   "outputs": [
    {
     "data": {
      "application/vnd.jupyter.widget-view+json": {
       "model_id": "d19411a601c04b298ca2894488b4ae6d",
       "version_major": 2,
       "version_minor": 0
      },
      "text/plain": [
       "VBox()"
      ]
     },
     "metadata": {},
     "output_type": "display_data"
    },
    {
     "data": {
      "application/vnd.jupyter.widget-view+json": {
       "model_id": "",
       "version_major": 2,
       "version_minor": 0
      },
      "text/plain": [
       "FloatProgress(value=0.0, bar_style='info', description='Progress:', layout=Layout(height='25px', width='50%'),…"
      ]
     },
     "metadata": {},
     "output_type": "display_data"
    }
   ],
   "source": [
    "# Writing the date dimension data to S3\n",
    "Fact_Final.write.format('csv').option('header', 'true').save('s3://upgrad-de/fact_atm_trans/', mode='overwrite')"
   ]
  },
  {
   "cell_type": "code",
   "execution_count": null,
   "id": "85f8de31",
   "metadata": {},
   "outputs": [],
   "source": []
  }
 ],
 "metadata": {
  "kernelspec": {
   "display_name": "PySpark",
   "language": "python",
   "name": "pysparkkernel"
  },
  "language_info": {
   "codemirror_mode": {
    "name": "python",
    "version": 3
   },
   "file_extension": ".py",
   "mimetype": "text/x-python",
   "name": "pyspark",
   "pygments_lexer": "python3"
  }
 },
 "nbformat": 4,
 "nbformat_minor": 5
}
